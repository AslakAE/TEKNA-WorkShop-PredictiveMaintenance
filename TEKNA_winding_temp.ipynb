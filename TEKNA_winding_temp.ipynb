{
  "nbformat": 4,
  "nbformat_minor": 0,
  "metadata": {
    "colab": {
      "name": "TEKNA_winding_temp.ipynb",
      "version": "0.3.2",
      "provenance": [],
      "include_colab_link": true
    },
    "kernelspec": {
      "name": "python3",
      "display_name": "Python 3"
    }
  },
  "cells": [
    {
      "cell_type": "markdown",
      "metadata": {
        "id": "view-in-github",
        "colab_type": "text"
      },
      "source": [
        "<a href=\"https://colab.research.google.com/github/cognitedata/TEKNA-WorkShop-PredictiveMaintenance/blob/master/TEKNA_winding_temp.ipynb\" target=\"_parent\"><img src=\"https://colab.research.google.com/assets/colab-badge.svg\" alt=\"Open In Colab\"/></a>"
      ]
    },
    {
      "metadata": {
        "id": "BMBv3-raQJtK",
        "colab_type": "code",
        "outputId": "0222f2a5-4043-4b7a-fdd1-ab3d702b4b98",
        "colab": {
          "base_uri": "https://localhost:8080/",
          "height": 272
        }
      },
      "cell_type": "code",
      "source": [
        "!pip install cognite-sdk"
      ],
      "execution_count": 0,
      "outputs": [
        {
          "output_type": "stream",
          "text": [
            "Requirement already satisfied: cognite-sdk in /usr/local/lib/python3.6/dist-packages (0.13.3)\n",
            "Requirement already satisfied: requests in /usr/local/lib/python3.6/dist-packages (from cognite-sdk) (2.18.4)\n",
            "Requirement already satisfied: protobuf in /usr/local/lib/python3.6/dist-packages (from cognite-sdk) (3.7.1)\n",
            "Requirement already satisfied: cognite-logger==0.4.* in /usr/local/lib/python3.6/dist-packages (from cognite-sdk) (0.4.0)\n",
            "Requirement already satisfied: pandas in /usr/local/lib/python3.6/dist-packages (from cognite-sdk) (0.22.0)\n",
            "Requirement already satisfied: certifi>=2017.4.17 in /usr/local/lib/python3.6/dist-packages (from requests->cognite-sdk) (2019.3.9)\n",
            "Requirement already satisfied: urllib3<1.23,>=1.21.1 in /usr/local/lib/python3.6/dist-packages (from requests->cognite-sdk) (1.22)\n",
            "Requirement already satisfied: idna<2.7,>=2.5 in /usr/local/lib/python3.6/dist-packages (from requests->cognite-sdk) (2.6)\n",
            "Requirement already satisfied: chardet<3.1.0,>=3.0.2 in /usr/local/lib/python3.6/dist-packages (from requests->cognite-sdk) (3.0.4)\n",
            "Requirement already satisfied: six>=1.9 in /usr/local/lib/python3.6/dist-packages (from protobuf->cognite-sdk) (1.11.0)\n",
            "Requirement already satisfied: setuptools in /usr/local/lib/python3.6/dist-packages (from protobuf->cognite-sdk) (40.9.0)\n",
            "Requirement already satisfied: python-json-logger==0.1.8 in /usr/local/lib/python3.6/dist-packages (from cognite-logger==0.4.*->cognite-sdk) (0.1.8)\n",
            "Requirement already satisfied: pytz>=2011k in /usr/local/lib/python3.6/dist-packages (from pandas->cognite-sdk) (2018.9)\n",
            "Requirement already satisfied: python-dateutil>=2 in /usr/local/lib/python3.6/dist-packages (from pandas->cognite-sdk) (2.5.3)\n",
            "Requirement already satisfied: numpy>=1.9.0 in /usr/local/lib/python3.6/dist-packages (from pandas->cognite-sdk) (1.14.6)\n"
          ],
          "name": "stdout"
        }
      ]
    },
    {
      "metadata": {
        "id": "_C9cFyP8QjVG",
        "colab_type": "code",
        "colab": {}
      },
      "cell_type": "code",
      "source": [
        "import pandas as pd\n",
        "import datetime as dt\n"
      ],
      "execution_count": 0,
      "outputs": []
    },
    {
      "metadata": {
        "id": "CTkGI5N1RNAc",
        "colab_type": "code",
        "colab": {}
      },
      "cell_type": "code",
      "source": [
        "url = 'https://raw.githubusercontent.com/cognitedata/TEKNA-WorkShop-PredictiveMaintenance/master/data_winding_temp.csv'\n",
        "df = pd.read_csv(url)"
      ],
      "execution_count": 0,
      "outputs": []
    },
    {
      "metadata": {
        "id": "Wpi-gVYFSJ7M",
        "colab_type": "code",
        "outputId": "ceb6dd19-7f92-4582-f6a9-5d318af39326",
        "colab": {
          "base_uri": "https://localhost:8080/",
          "height": 204
        }
      },
      "cell_type": "code",
      "source": [
        "df.head()"
      ],
      "execution_count": 0,
      "outputs": [
        {
          "output_type": "execute_result",
          "data": {
            "text/html": [
              "<div>\n",
              "<style scoped>\n",
              "    .dataframe tbody tr th:only-of-type {\n",
              "        vertical-align: middle;\n",
              "    }\n",
              "\n",
              "    .dataframe tbody tr th {\n",
              "        vertical-align: top;\n",
              "    }\n",
              "\n",
              "    .dataframe thead th {\n",
              "        text-align: right;\n",
              "    }\n",
              "</style>\n",
              "<table border=\"1\" class=\"dataframe\">\n",
              "  <thead>\n",
              "    <tr style=\"text-align: right;\">\n",
              "      <th></th>\n",
              "      <th>timestamp</th>\n",
              "      <th>stator_u</th>\n",
              "      <th>stator_v</th>\n",
              "      <th>stator_w</th>\n",
              "      <th>speed</th>\n",
              "    </tr>\n",
              "  </thead>\n",
              "  <tbody>\n",
              "    <tr>\n",
              "      <th>0</th>\n",
              "      <td>1512086400000</td>\n",
              "      <td>51.598788</td>\n",
              "      <td>54.152083</td>\n",
              "      <td>50.854405</td>\n",
              "      <td>10062.486783</td>\n",
              "    </tr>\n",
              "    <tr>\n",
              "      <th>1</th>\n",
              "      <td>1512087300000</td>\n",
              "      <td>51.581399</td>\n",
              "      <td>54.152083</td>\n",
              "      <td>50.858611</td>\n",
              "      <td>10062.623458</td>\n",
              "    </tr>\n",
              "    <tr>\n",
              "      <th>2</th>\n",
              "      <td>1512088200000</td>\n",
              "      <td>51.566755</td>\n",
              "      <td>54.147916</td>\n",
              "      <td>50.849778</td>\n",
              "      <td>10061.890669</td>\n",
              "    </tr>\n",
              "    <tr>\n",
              "      <th>3</th>\n",
              "      <td>1512089100000</td>\n",
              "      <td>51.594999</td>\n",
              "      <td>54.176974</td>\n",
              "      <td>50.891986</td>\n",
              "      <td>10069.210826</td>\n",
              "    </tr>\n",
              "    <tr>\n",
              "      <th>4</th>\n",
              "      <td>1512090000000</td>\n",
              "      <td>51.573844</td>\n",
              "      <td>54.125803</td>\n",
              "      <td>50.892645</td>\n",
              "      <td>10064.812260</td>\n",
              "    </tr>\n",
              "  </tbody>\n",
              "</table>\n",
              "</div>"
            ],
            "text/plain": [
              "       timestamp   stator_u   stator_v   stator_w         speed\n",
              "0  1512086400000  51.598788  54.152083  50.854405  10062.486783\n",
              "1  1512087300000  51.581399  54.152083  50.858611  10062.623458\n",
              "2  1512088200000  51.566755  54.147916  50.849778  10061.890669\n",
              "3  1512089100000  51.594999  54.176974  50.891986  10069.210826\n",
              "4  1512090000000  51.573844  54.125803  50.892645  10064.812260"
            ]
          },
          "metadata": {
            "tags": []
          },
          "execution_count": 8
        }
      ]
    },
    {
      "metadata": {
        "id": "SAFHyl89hqxQ",
        "colab_type": "code",
        "colab": {}
      },
      "cell_type": "code",
      "source": [
        ""
      ],
      "execution_count": 0,
      "outputs": []
    }
  ]
}